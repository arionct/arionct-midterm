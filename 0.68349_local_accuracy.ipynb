{
 "cells": [
  {
   "cell_type": "markdown",
   "metadata": {},
   "source": [
    "# Libraries"
   ]
  },
  {
   "cell_type": "code",
   "execution_count": 64,
   "metadata": {},
   "outputs": [],
   "source": [
    "import pickle\n",
    "import pandas as pd\n",
    "import seaborn as sns\n",
    "from os.path import exists\n",
    "import matplotlib.pyplot as plt\n",
    "from sklearn.neighbors import KNeighborsClassifier\n",
    "from sklearn.model_selection import train_test_split\n",
    "from sklearn.metrics import accuracy_score, confusion_matrix\n",
    "\n",
    "import nltk\n",
    "from nltk.corpus import stopwords\n",
    "from nltk.stem import WordNetLemmatizer\n",
    "from nltk.sentiment import SentimentIntensityAnalyzer\n",
    "from xgboost import XGBClassifier\n",
    "from sklearn.model_selection import GridSearchCV"
   ]
  },
  {
   "cell_type": "markdown",
   "metadata": {},
   "source": [
    "# Loading the Files\n",
    "\n",
    "Download the csv files into the `data/` directory."
   ]
  },
  {
   "cell_type": "code",
   "execution_count": 45,
   "metadata": {},
   "outputs": [
    {
     "name": "stdout",
     "output_type": "stream",
     "text": [
      "train.csv shape is  (1697533, 9)\n",
      "test.csv shape is  (212192, 2)\n",
      "\n",
      "        Id   ProductId          UserId  HelpfulnessNumerator  \\\n",
      "0   914403  B0009W5KHM   AV6QDP8Q0ONK4                     2   \n",
      "1   354887  6303079709  A2I8RXJN80A2D2                     0   \n",
      "2  1407653  B004H0M2XC  A3FHV3RV8Z12E6                     0   \n",
      "3  1377458  B003ZJ9536  A12VLTA3ZHVPUY                     1   \n",
      "4   475323  630574453X  A13NM1PES9OXVN                     2   \n",
      "\n",
      "   HelpfulnessDenominator        Time  \\\n",
      "0                       2  1341014400   \n",
      "1                       0  1168819200   \n",
      "2                       0  1386201600   \n",
      "3                       1  1348704000   \n",
      "4                       3   970012800   \n",
      "\n",
      "                                         Summary  \\\n",
      "0                                  GOOD FUN FILM   \n",
      "1                                   Movie Review   \n",
      "2             When is it a good time to Consent?   \n",
      "3                                          TRUTH   \n",
      "4  Intelligent and bittersweet -- stays with you   \n",
      "\n",
      "                                                Text  Score  \n",
      "0  While most straight to DVD films are not worth...    4.0  \n",
      "1  I have wanted this one for sometime, also.  I ...    4.0  \n",
      "2  Actually this was a pretty darn good indie fil...    3.0  \n",
      "3  Episodes 37 to 72 of the series press on in a ...    4.0  \n",
      "4  I was really impressed with this movie, but wa...    2.0  \n",
      "\n",
      "        Id  Score\n",
      "0  1323432    NaN\n",
      "1  1137299    NaN\n",
      "2  1459366    NaN\n",
      "3   931601    NaN\n",
      "4  1311995    NaN\n",
      "\n",
      "                 Id  HelpfulnessNumerator  HelpfulnessDenominator  \\\n",
      "count  1.697533e+06          1.697533e+06            1.697533e+06   \n",
      "mean   8.487660e+05          3.569048e+00            5.301422e+00   \n",
      "std    4.900357e+05          1.727883e+01            2.024445e+01   \n",
      "min    0.000000e+00          0.000000e+00            0.000000e+00   \n",
      "25%    4.243830e+05          0.000000e+00            0.000000e+00   \n",
      "50%    8.487660e+05          1.000000e+00            1.000000e+00   \n",
      "75%    1.273149e+06          3.000000e+00            5.000000e+00   \n",
      "max    1.697532e+06          6.084000e+03            6.510000e+03   \n",
      "\n",
      "               Time         Score  \n",
      "count  1.697533e+06  1.485341e+06  \n",
      "mean   1.262422e+09  3.110517e+00  \n",
      "std    1.289277e+08  1.197651e+00  \n",
      "min    8.793792e+08  0.000000e+00  \n",
      "25%    1.164413e+09  3.000000e+00  \n",
      "50%    1.307491e+09  4.000000e+00  \n",
      "75%    1.373242e+09  4.000000e+00  \n",
      "max    1.406074e+09  4.000000e+00  \n"
     ]
    },
    {
     "data": {
      "image/png": "[encoded data removed]",
      "text/plain": [
       "<Figure size 640x480 with 1 Axes>"
      ]
     },
     "metadata": {},
     "output_type": "display_data"
    },
    {
     "name": "stdout",
     "output_type": "stream",
     "text": [
      "\n",
      "EVERYTHING IS PROPERLY SET UP! YOU ARE READY TO START\n"
     ]
    }
   ],
   "source": [
    "trainingSet = pd.read_csv(\"./data/train.csv\")\n",
    "testingSet = pd.read_csv(\"./data/test.csv\")\n",
    "\n",
    "# NECESSARY FOR XGBOOST: [0, 1, 2, 3, 4]\n",
    "trainingSet['Score'] = trainingSet['Score'] - 1\n",
    "\n",
    "print(\"train.csv shape is \", trainingSet.shape)\n",
    "print(\"test.csv shape is \", testingSet.shape)\n",
    "\n",
    "print()\n",
    "\n",
    "print(trainingSet.head())\n",
    "print()\n",
    "print(testingSet.head())\n",
    "\n",
    "print()\n",
    "\n",
    "print(trainingSet.describe())\n",
    "\n",
    "trainingSet['Score'].value_counts().plot(kind='bar', legend=True, alpha=.5)\n",
    "plt.show()\n",
    "\n",
    "print()\n",
    "print(\"EVERYTHING IS PROPERLY SET UP! YOU ARE READY TO START\")"
   ]
  },
  {
   "cell_type": "markdown",
   "metadata": {},
   "source": [
    "# Adding Features"
   ]
  },
  {
   "cell_type": "code",
   "execution_count": 46,
   "metadata": {},
   "outputs": [
    {
     "name": "stderr",
     "output_type": "stream",
     "text": [
      "[nltk_data] Downloading package vader_lexicon to\n",
      "[nltk_data]     /Users/ariontripathi/nltk_data...\n",
      "[nltk_data]   Package vader_lexicon is already up-to-date!\n",
      "[nltk_data] Downloading package wordnet to\n",
      "[nltk_data]     /Users/ariontripathi/nltk_data...\n",
      "[nltk_data]   Package wordnet is already up-to-date!\n",
      "[nltk_data] Downloading package omw-1.4 to\n",
      "[nltk_data]     /Users/ariontripathi/nltk_data...\n",
      "[nltk_data]   Package omw-1.4 is already up-to-date!\n"
     ]
    }
   ],
   "source": [
    "nltk.download('vader_lexicon')\n",
    "nltk.download('wordnet')\n",
    "nltk.download('omw-1.4')\n",
    "stop_words = set(stopwords.words('english'))\n",
    "lemmatizer = WordNetLemmatizer()\n",
    "sia = SentimentIntensityAnalyzer()\n",
    "\n",
    "# remove meaningless words and reduce words to their roots\n",
    "def filter_and_lemmatize(text):\n",
    "    if pd.isnull(text):\n",
    "        return ''\n",
    "    filtered = ' '.join([word for word in text.split() if word.lower() not in stop_words])\n",
    "    return ' '.join([lemmatizer.lemmatize(word) for word in filtered.split()])\n",
    "\n",
    "# calculate the sentiment of a text\n",
    "def sentiment(text):\n",
    "    if pd.isnull(text):\n",
    "        return 0\n",
    "    return sia.polarity_scores(filter_and_lemmatize(text))['compound']\n",
    "\n",
    "def add_features_to(df):\n",
    "    # This is where you can do all your feature extraction\n",
    "\n",
    "    df['Helpfulness'] = df['HelpfulnessNumerator'] / df['HelpfulnessDenominator']\n",
    "    df['Helpfulness'] = df['Helpfulness'].fillna(0)\n",
    "   \n",
    "    df['Summary Sentiment'] = df['Summary'].apply(sentiment)\n",
    "    df['Text Sentiment'] = df['Text'].apply(sentiment)\n",
    "\n",
    "    df['Length'] = df['Text'].str.len()\n",
    "    df['Length'] = df['Length'].fillna(0)\n",
    "    \n",
    "    return df\n",
    "\n",
    "# Load the feature extracted files if they've already been generated\n",
    "if exists('./data/X_train.csv') and exists('./data/X_submission.csv'):\n",
    "    X_train = pd.read_csv(\"./data/X_train.csv\")\n",
    "    X_submission = pd.read_csv(\"./data/X_submission.csv\")\n",
    "else:\n",
    "    # Process the DataFrame\n",
    "    train = add_features_to(trainingSet)\n",
    "\n",
    "    # calculate product stats\n",
    "    product_stats = trainingSet.groupby('ProductId')['Score'].agg(['mean', 'var']).reset_index()\n",
    "    product_stats.columns = ['ProductId', 'ProductMeanScore', 'ProductScoreVariance']\n",
    "\n",
    "    # calculate user stats\n",
    "    user_stats = trainingSet.groupby('UserId')['Score'].agg(['mean', 'var']).reset_index()\n",
    "    user_stats.columns = ['UserId', 'UserMeanScore', 'UserScoreVariance']\n",
    "\n",
    "    # merge product and user stats to train\n",
    "    train = pd.merge(train, product_stats, on='ProductId', how='left')\n",
    "    train = pd.merge(train, user_stats, on='UserId', how='left')\n",
    "    \n",
    "    # Merge on Id so that the submission set can have feature columns as well\n",
    "    X_submission = pd.merge(train, testingSet, left_on='Id', right_on='Id', how='right')\n",
    "    X_submission = X_submission.drop(columns=['Score_x'])\n",
    "    X_submission = X_submission.rename(columns={'Score_y': 'Score'})\n",
    "\n",
    "    # merge product stats to X_submission\n",
    "    X_submission = pd.merge(X_submission, product_stats, on='ProductId', how='left')\n",
    "    X_submission = X_submission.drop(columns=['ProductMeanScore_x', 'ProductScoreVariance_x'])\n",
    "    X_submission = X_submission.rename(columns={'ProductMeanScore_y': 'ProductMeanScore', 'ProductScoreVariance_y': 'ProductScoreVariance'})\n",
    "\n",
    "    # merge user stats to X_submission\n",
    "    X_submission = pd.merge(X_submission, user_stats, on='UserId', how='left')\n",
    "    X_submission = X_submission.drop(columns=['UserMeanScore_x', 'UserScoreVariance_x'])\n",
    "    X_submission = X_submission.rename(columns={'UserMeanScore_y': 'UserMeanScore', 'UserScoreVariance_y': 'UserScoreVariance'})\n",
    "\n",
    "    # fill in missing values with overall mean and variance\n",
    "    overall_mean_score = trainingSet['Score'].mean()\n",
    "    overall_score_variance = trainingSet['Score'].var()\n",
    "    X_submission['ProductMeanScore'].fillna(overall_mean_score, inplace=True)\n",
    "    X_submission['ProductScoreVariance'].fillna(overall_score_variance, inplace=True)\n",
    "\n",
    "    # The training set is where the score is not null\n",
    "    X_train = train[train['Score'].notnull()]\n",
    "\n",
    "    X_submission.to_csv(\"./data/X_submission.csv\", index=False)\n",
    "    X_train.to_csv(\"./data/X_train.csv\", index=False)"
   ]
  },
  {
   "cell_type": "markdown",
   "metadata": {},
   "source": [
    "# Sample + Split into training and testing set"
   ]
  },
  {
   "cell_type": "code",
   "execution_count": 47,
   "metadata": {},
   "outputs": [],
   "source": [
    "# Split training set into training and testing set\n",
    "X_train, X_test, Y_train, Y_test = train_test_split(\n",
    "    X_train.drop(columns=['Score']),\n",
    "    X_train['Score'],\n",
    "    test_size=1/4.0,\n",
    "    random_state=0\n",
    ")"
   ]
  },
  {
   "cell_type": "markdown",
   "metadata": {},
   "source": [
    "# Feature Selection"
   ]
  },
  {
   "cell_type": "code",
   "execution_count": 61,
   "metadata": {},
   "outputs": [],
   "source": [
    "features = [\n",
    "    'Helpfulness',\n",
    "    'HelpfulnessNumerator',\n",
    "    'HelpfulnessDenominator',\n",
    "    'Summary Sentiment',\n",
    "    'Text Sentiment',\n",
    "    'Length',\n",
    "    'ProductMeanScore',\n",
    "    'ProductScoreVariance',\n",
    "    'UserMeanScore',\n",
    "    'UserScoreVariance'\n",
    "]\n",
    "\n",
    "X_train_select = X_train[features]\n",
    "X_test_select = X_test[features]\n",
    "X_submission_select = X_submission[features]"
   ]
  },
  {
   "cell_type": "markdown",
   "metadata": {},
   "source": [
    "# Model Creation"
   ]
  },
  {
   "cell_type": "code",
   "execution_count": 74,
   "metadata": {},
   "outputs": [
    {
     "name": "stdout",
     "output_type": "stream",
     "text": [
      "Fitting 2 folds for each of 27 candidates, totalling 54 fits\n",
      "[CV 1/2] END learning_rate=0.08, max_depth=8, n_estimators=200;, score=0.681 total time=  25.9s\n",
      "[CV 2/2] END learning_rate=0.08, max_depth=8, n_estimators=200;, score=0.679 total time=  23.7s\n",
      "[CV 1/2] END learning_rate=0.08, max_depth=8, n_estimators=250;, score=0.681 total time=  28.7s\n",
      "[CV 2/2] END learning_rate=0.08, max_depth=8, n_estimators=250;, score=0.680 total time=  28.9s\n",
      "[CV 1/2] END learning_rate=0.08, max_depth=8, n_estimators=300;, score=0.682 total time=  33.8s\n",
      "[CV 2/2] END learning_rate=0.08, max_depth=8, n_estimators=300;, score=0.680 total time=  32.2s\n",
      "[CV 1/2] END learning_rate=0.08, max_depth=10, n_estimators=200;, score=0.681 total time=  30.3s\n",
      "[CV 2/2] END learning_rate=0.08, max_depth=10, n_estimators=200;, score=0.679 total time=  30.8s\n",
      "[CV 1/2] END learning_rate=0.08, max_depth=10, n_estimators=250;, score=0.681 total time=  37.8s\n",
      "[CV 2/2] END learning_rate=0.08, max_depth=10, n_estimators=250;, score=0.679 total time=  37.7s\n",
      "[CV 1/2] END learning_rate=0.08, max_depth=10, n_estimators=300;, score=0.681 total time=  43.0s\n",
      "[CV 2/2] END learning_rate=0.08, max_depth=10, n_estimators=300;, score=0.680 total time=  42.5s\n",
      "[CV 1/2] END learning_rate=0.08, max_depth=12, n_estimators=200;, score=0.680 total time=  41.2s\n",
      "[CV 2/2] END learning_rate=0.08, max_depth=12, n_estimators=200;, score=0.679 total time=  41.3s\n",
      "[CV 1/2] END learning_rate=0.08, max_depth=12, n_estimators=250;, score=0.680 total time=  50.5s\n",
      "[CV 2/2] END learning_rate=0.08, max_depth=12, n_estimators=250;, score=0.679 total time=  49.9s\n",
      "[CV 1/2] END learning_rate=0.08, max_depth=12, n_estimators=300;, score=0.680 total time=  59.9s\n",
      "[CV 2/2] END learning_rate=0.08, max_depth=12, n_estimators=300;, score=0.679 total time=  58.8s\n",
      "[CV 1/2] END learning_rate=0.1, max_depth=8, n_estimators=200;, score=0.681 total time=  24.1s\n",
      "[CV 2/2] END learning_rate=0.1, max_depth=8, n_estimators=200;, score=0.680 total time=  22.2s\n",
      "[CV 1/2] END learning_rate=0.1, max_depth=8, n_estimators=250;, score=0.682 total time=  26.8s\n",
      "[CV 2/2] END learning_rate=0.1, max_depth=8, n_estimators=250;, score=0.681 total time=  29.8s\n",
      "[CV 1/2] END learning_rate=0.1, max_depth=8, n_estimators=300;, score=0.682 total time=  34.0s\n",
      "[CV 2/2] END learning_rate=0.1, max_depth=8, n_estimators=300;, score=0.681 total time=  33.5s\n",
      "[CV 1/2] END learning_rate=0.1, max_depth=10, n_estimators=200;, score=0.682 total time=  31.7s\n",
      "[CV 2/2] END learning_rate=0.1, max_depth=10, n_estimators=200;, score=0.680 total time=  29.2s\n",
      "[CV 1/2] END learning_rate=0.1, max_depth=10, n_estimators=250;, score=0.681 total time=  37.5s\n",
      "[CV 2/2] END learning_rate=0.1, max_depth=10, n_estimators=250;, score=0.680 total time=  36.8s\n",
      "[CV 1/2] END learning_rate=0.1, max_depth=10, n_estimators=300;, score=0.681 total time=  41.9s\n",
      "[CV 2/2] END learning_rate=0.1, max_depth=10, n_estimators=300;, score=0.680 total time=  42.8s\n",
      "[CV 1/2] END learning_rate=0.1, max_depth=12, n_estimators=200;, score=0.679 total time=  43.0s\n",
      "[CV 2/2] END learning_rate=0.1, max_depth=12, n_estimators=200;, score=0.678 total time=  40.0s\n",
      "[CV 1/2] END learning_rate=0.1, max_depth=12, n_estimators=250;, score=0.679 total time=  49.7s\n",
      "[CV 2/2] END learning_rate=0.1, max_depth=12, n_estimators=250;, score=0.678 total time=  48.8s\n",
      "[CV 1/2] END learning_rate=0.1, max_depth=12, n_estimators=300;, score=0.679 total time=  58.4s\n",
      "[CV 2/2] END learning_rate=0.1, max_depth=12, n_estimators=300;, score=0.678 total time=  57.1s\n",
      "[CV 1/2] END learning_rate=0.12, max_depth=8, n_estimators=200;, score=0.682 total time=  22.0s\n",
      "[CV 2/2] END learning_rate=0.12, max_depth=8, n_estimators=200;, score=0.680 total time=  22.4s\n",
      "[CV 1/2] END learning_rate=0.12, max_depth=8, n_estimators=250;, score=0.682 total time=  29.2s\n",
      "[CV 2/2] END learning_rate=0.12, max_depth=8, n_estimators=250;, score=0.680 total time=  28.5s\n",
      "[CV 1/2] END learning_rate=0.12, max_depth=8, n_estimators=300;, score=0.682 total time=  34.1s\n",
      "[CV 2/2] END learning_rate=0.12, max_depth=8, n_estimators=300;, score=0.681 total time=  31.8s\n",
      "[CV 1/2] END learning_rate=0.12, max_depth=10, n_estimators=200;, score=0.681 total time=  29.8s\n",
      "[CV 2/2] END learning_rate=0.12, max_depth=10, n_estimators=200;, score=0.680 total time=  30.5s\n",
      "[CV 1/2] END learning_rate=0.12, max_depth=10, n_estimators=250;, score=0.681 total time=  39.1s\n",
      "[CV 2/2] END learning_rate=0.12, max_depth=10, n_estimators=250;, score=0.680 total time=  36.8s\n",
      "[CV 1/2] END learning_rate=0.12, max_depth=10, n_estimators=300;, score=0.681 total time=  42.0s\n",
      "[CV 2/2] END learning_rate=0.12, max_depth=10, n_estimators=300;, score=0.679 total time=  39.9s\n",
      "[CV 1/2] END learning_rate=0.12, max_depth=12, n_estimators=200;, score=0.679 total time=  38.5s\n",
      "[CV 2/2] END learning_rate=0.12, max_depth=12, n_estimators=200;, score=0.678 total time=  37.1s\n",
      "[CV 1/2] END learning_rate=0.12, max_depth=12, n_estimators=250;, score=0.678 total time=  48.2s\n",
      "[CV 2/2] END learning_rate=0.12, max_depth=12, n_estimators=250;, score=0.678 total time=  46.3s\n",
      "[CV 1/2] END learning_rate=0.12, max_depth=12, n_estimators=300;, score=0.678 total time=  54.6s\n",
      "[CV 2/2] END learning_rate=0.12, max_depth=12, n_estimators=300;, score=0.677 total time=  55.5s\n"
     ]
    }
   ],
   "source": [
    "# hyperparameter tuning\n",
    "param_grid = {\n",
    "    'n_estimators': [200, 250, 300],\n",
    "    'max_depth': [8, 10, 12],\n",
    "    'learning_rate': [0.08, 0.1, 0.12],\n",
    "}\n",
    "\n",
    "# Learn the model\n",
    "grid_search = GridSearchCV(\n",
    "    XGBClassifier(random_state=0),\n",
    "    param_grid=param_grid,\n",
    "    cv=2,\n",
    "    verbose=3\n",
    ")\n",
    "grid_search.fit(X_train_select, Y_train)\n",
    "\n",
    "# Predict the score using the model\n",
    "Y_test_predictions = grid_search.predict(X_test_select)"
   ]
  },
  {
   "cell_type": "markdown",
   "metadata": {},
   "source": [
    "# Model Evaluation"
   ]
  },
  {
   "cell_type": "code",
   "execution_count": 75,
   "metadata": {},
   "outputs": [
    {
     "name": "stdout",
     "output_type": "stream",
     "text": [
      "Accuracy on testing set =  0.6834861150009695\n"
     ]
    },
    {
     "data": {
      "image/png": "[encoded data removed]",
      "text/plain": [
       "<Figure size 640x480 with 2 Axes>"
      ]
     },
     "metadata": {},
     "output_type": "display_data"
    }
   ],
   "source": [
    "# Evaluate your model on the testing set\n",
    "print(\"Accuracy on testing set = \", accuracy_score(Y_test, Y_test_predictions))\n",
    "\n",
    "# Plot a confusion matrix\n",
    "cm = confusion_matrix(Y_test, Y_test_predictions, normalize='true')\n",
    "sns.heatmap(cm, annot=True)\n",
    "plt.title('Confusion matrix of the classifier')\n",
    "plt.xlabel('Predicted')\n",
    "plt.ylabel('True')\n",
    "plt.show()"
   ]
  },
  {
   "cell_type": "markdown",
   "metadata": {},
   "source": [
    "# Create submission file"
   ]
  },
  {
   "cell_type": "code",
   "execution_count": 72,
   "metadata": {},
   "outputs": [],
   "source": [
    "# Create the submission file\n",
    "X_submission['Score'] = grid_search.predict(X_submission_select)\n",
    "X_submission['Score'] = X_submission['Score'] + 1\n",
    "submission = X_submission[['Id', 'Score']]\n",
    "submission.to_csv(\"./data/submission.csv\", index=False)"
   ]
  }
 ],
 "metadata": {
  "kernelspec": {
   "display_name": "base",
   "language": "python",
   "name": "python3"
  },
  "language_info": {
   "codemirror_mode": {
    "name": "ipython",
    "version": 3
   },
   "file_extension": ".py",
   "mimetype": "text/x-python",
   "name": "python",
   "nbconvert_exporter": "python",
   "pygments_lexer": "ipython3",
   "version": "3.9.13"
  }
 },
 "nbformat": 4,
 "nbformat_minor": 2
}
